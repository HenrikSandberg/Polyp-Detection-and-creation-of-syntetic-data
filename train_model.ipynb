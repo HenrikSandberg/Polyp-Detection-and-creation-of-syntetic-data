{
 "cells": [
  {
   "cell_type": "code",
   "execution_count": null,
   "metadata": {},
   "outputs": [
    {
     "evalue": "Error: Activating Python 3.7.4 64-bit ('miniconda3': conda) to run Jupyter failed with Error: Command failed: . /Users/henrik/miniconda3/bin/activate && conda activate miniconda3 && echo 'e8b39361-0157-4923-80e1-22d70d46dee6' && python /Users/henrik/.vscode/extensions/ms-python.python-2019.10.44104/pythonFiles/printEnvVariables.py\nCould not find conda environment: miniconda3\nYou can list all discoverable environments with `conda info --envs`.\n\n.",
     "output_type": "error"
    }
   ],
   "source": [
    "from __future__ import absolute_import, division, print_function, unicode_literals\n",
    "\n",
    "import matplotlib.pyplot as plt\n",
    "import pandas as pd\n",
    "import cv2\n",
    "import random"
   ]
  },
  {
   "cell_type": "code",
   "execution_count": null,
   "metadata": {},
   "outputs": [
    {
     "evalue": "Error: Activating Python 3.7.4 64-bit ('miniconda3': conda) to run Jupyter failed with Error: Command failed: . /Users/henrik/miniconda3/bin/activate && conda activate miniconda3 && echo 'e8b39361-0157-4923-80e1-22d70d46dee6' && python /Users/henrik/.vscode/extensions/ms-python.python-2019.10.44104/pythonFiles/printEnvVariables.py\nCould not find conda environment: miniconda3\nYou can list all discoverable environments with `conda info --envs`.\n\n.",
     "output_type": "error"
    }
   ],
   "source": [
    "# Disables warning, doesn't enable AVX/FMA\n",
    "import datetime, os\n",
    "os.environ['TF_CPP_MIN_LOG_LEVEL'] = '2'"
   ]
  },
  {
   "cell_type": "code",
   "execution_count": null,
   "metadata": {},
   "outputs": [
    {
     "evalue": "Error: Activating Python 3.7.4 64-bit ('miniconda3': conda) to run Jupyter failed with Error: Command failed: . /Users/henrik/miniconda3/bin/activate && conda activate miniconda3 && echo 'e8b39361-0157-4923-80e1-22d70d46dee6' && python /Users/henrik/.vscode/extensions/ms-python.python-2019.10.44104/pythonFiles/printEnvVariables.py\nCould not find conda environment: miniconda3\nYou can list all discoverable environments with `conda info --envs`.\n\n.",
     "output_type": "error"
    }
   ],
   "source": [
    "#The dataset used in this assignment is a benchmark dataset to use \n",
    "import tensorflow as tf\n",
    "from tensorflow import keras"
   ]
  },
  {
   "cell_type": "code",
   "execution_count": null,
   "metadata": {},
   "outputs": [
    {
     "evalue": "Error: Activating Python 3.7.4 64-bit ('miniconda3': conda) to run Jupyter failed with Error: Command failed: . /Users/henrik/miniconda3/bin/activate && conda activate miniconda3 && echo 'e8b39361-0157-4923-80e1-22d70d46dee6' && python /Users/henrik/.vscode/extensions/ms-python.python-2019.10.44104/pythonFiles/printEnvVariables.py\nCould not find conda environment: miniconda3\nYou can list all discoverable environments with `conda info --envs`.\n\n.",
     "output_type": "error"
    }
   ],
   "source": [
    "#Import from keras\n",
    "from keras.models import Sequential\n",
    "from keras.layers import Conv2D, GlobalAvgPool2D, MaxPool2D, Flatten, Dense"
   ]
  },
  {
   "cell_type": "code",
   "execution_count": null,
   "metadata": {},
   "outputs": [
    {
     "evalue": "Error: Activating Python 3.7.4 64-bit ('miniconda3': conda) to run Jupyter failed with Error: Command failed: . /Users/henrik/miniconda3/bin/activate && conda activate miniconda3 && echo 'e8b39361-0157-4923-80e1-22d70d46dee6' && python /Users/henrik/.vscode/extensions/ms-python.python-2019.10.44104/pythonFiles/printEnvVariables.py\nCould not find conda environment: miniconda3\nYou can list all discoverable environments with `conda info --envs`.\n\n.",
     "output_type": "error"
    }
   ],
   "source": [
    "#Making new prediction\n",
    "import numpy as np\n",
    "from keras.preprocessing import image"
   ]
  },
  {
   "cell_type": "code",
   "execution_count": null,
   "metadata": {},
   "outputs": [
    {
     "evalue": "Error: Activating Python 3.7.4 64-bit ('miniconda3': conda) to run Jupyter failed with Error: Command failed: . /Users/henrik/miniconda3/bin/activate && conda activate miniconda3 && echo 'e8b39361-0157-4923-80e1-22d70d46dee6' && python /Users/henrik/.vscode/extensions/ms-python.python-2019.10.44104/pythonFiles/printEnvVariables.py\nCould not find conda environment: miniconda3\nYou can list all discoverable environments with `conda info --envs`.\n\n.",
     "output_type": "error"
    }
   ],
   "source": [
    "#Store data\n",
    "import pickle"
   ]
  },
  {
   "cell_type": "code",
   "execution_count": null,
   "metadata": {},
   "outputs": [
    {
     "evalue": "Error: Activating Python 3.7.4 64-bit ('miniconda3': conda) to run Jupyter failed with Error: Command failed: . /Users/henrik/miniconda3/bin/activate && conda activate miniconda3 && echo 'e8b39361-0157-4923-80e1-22d70d46dee6' && python /Users/henrik/.vscode/extensions/ms-python.python-2019.10.44104/pythonFiles/printEnvVariables.py\nCould not find conda environment: miniconda3\nYou can list all discoverable environments with `conda info --envs`.\n\n.",
     "output_type": "error"
    }
   ],
   "source": [
    "#GLOBALE VALUES\n",
    "img_size = 500\n",
    "img_width = 576\n",
    "img_height = 720\n",
    "\n",
    "data_dir = 'data/'\n",
    "\n",
    "X = []\n",
    "y = []\n",
    "\n",
    "CATEGORIES = [\n",
    "    'dyed-lifted-polyps', \n",
    "    'dyed-resection-margins', \n",
    "    'esophagitis', \n",
    "    'normal-cecum', \n",
    "    'normal-pylorus', \n",
    "    'normal-z-line',\n",
    "    'polyps', \n",
    "    'ulcerative-colitis'\n",
    "]"
   ]
  },
  {
   "cell_type": "code",
   "execution_count": null,
   "metadata": {},
   "outputs": [
    {
     "evalue": "Error: Activating Python 3.7.4 64-bit ('miniconda3': conda) to run Jupyter failed with Error: Command failed: . /Users/henrik/miniconda3/bin/activate && conda activate miniconda3 && echo 'e8b39361-0157-4923-80e1-22d70d46dee6' && python /Users/henrik/.vscode/extensions/ms-python.python-2019.10.44104/pythonFiles/printEnvVariables.py\nCould not find conda environment: miniconda3\nYou can list all discoverable environments with `conda info --envs`.\n\n.",
     "output_type": "error"
    }
   ],
   "source": [
    "def create_training_data(): \n",
    "    training_data = []   \n",
    "    for category in CATEGORIES:\n",
    "        path = os.path.join(data_dir, category)\n",
    "        class_num = CATEGORIES.index(category)\n",
    "        for img in os.listdir(path):\n",
    "            try:\n",
    "                img_array = cv2.imread(os.path.join(path,img), cv2.IMREAD_GRAYSCALE) #TODO: May want to make img gray -> can add: \n",
    "                new_img_array = cv2.resize(img_array, (img_size, img_size))\n",
    "                training_data.append([new_img_array, class_num])\n",
    "                # plt.imshow(img_array, cmap='gray')\n",
    "                # plt.show()\n",
    "                # break\n",
    "            except Exception as e:\n",
    "                print(e)\n",
    "    random.shuffle(training_data)\n",
    "    return training_data"
   ]
  },
  {
   "cell_type": "code",
   "execution_count": null,
   "metadata": {},
   "outputs": [
    {
     "evalue": "Error: Activating Python 3.7.4 64-bit ('miniconda3': conda) to run Jupyter failed with Error: Command failed: . /Users/henrik/miniconda3/bin/activate && conda activate miniconda3 && echo 'e8b39361-0157-4923-80e1-22d70d46dee6' && python /Users/henrik/.vscode/extensions/ms-python.python-2019.10.44104/pythonFiles/printEnvVariables.py\nCould not find conda environment: miniconda3\nYou can list all discoverable environments with `conda info --envs`.\n\n.",
     "output_type": "error"
    }
   ],
   "source": [
    "def build_model():\n",
    "    model = Sequential([\n",
    "        Conv2D(256, (3, 3), activation='relu', input_shape=(img_size, img_size, 1)),\n",
    "        MaxPool2D((2, 2)),\n",
    "        Conv2D(128, (3, 3), activation='relu'),\n",
    "        MaxPool2D((2, 2)),\n",
    "        Conv2D(128, (3, 3), activation='relu'),\n",
    "        MaxPool2D((2, 2)),\n",
    "        Flatten(),\n",
    "        Dense(units=128, activation='relu'),\n",
    "        Dense(units=8, activation=\"sigmoid\")\n",
    "    ])\n",
    "    return model"
   ]
  },
  {
   "cell_type": "code",
   "execution_count": null,
   "metadata": {},
   "outputs": [
    {
     "evalue": "Error: Activating Python 3.7.4 64-bit ('miniconda3': conda) to run Jupyter failed with Error: Command failed: . /Users/henrik/miniconda3/bin/activate && conda activate miniconda3 && echo 'e8b39361-0157-4923-80e1-22d70d46dee6' && python /Users/henrik/.vscode/extensions/ms-python.python-2019.10.44104/pythonFiles/printEnvVariables.py\nCould not find conda environment: miniconda3\nYou can list all discoverable environments with `conda info --envs`.\n\n.",
     "output_type": "error"
    }
   ],
   "source": [
    "training_data = create_training_data()\n",
    "\n",
    "for feature, label in training_data:\n",
    "    X.append(feature)\n",
    "    y.append(label)\n",
    "\n",
    "X = np.array(X).reshape(-1, img_size, img_size, 1)\n",
    "\n",
    "model = build_model()"
   ]
  },
  {
   "cell_type": "code",
   "execution_count": null,
   "metadata": {},
   "outputs": [
    {
     "evalue": "Error: Activating Python 3.7.4 64-bit ('miniconda3': conda) to run Jupyter failed with Error: Command failed: . /Users/henrik/miniconda3/bin/activate && conda activate miniconda3 && echo 'e8b39361-0157-4923-80e1-22d70d46dee6' && python /Users/henrik/.vscode/extensions/ms-python.python-2019.10.44104/pythonFiles/printEnvVariables.py\nCould not find conda environment: miniconda3\nYou can list all discoverable environments with `conda info --envs`.\n\n.",
     "output_type": "error"
    }
   ],
   "source": [
    "model.compile(\n",
    "    loss='sparse_categorical_crossentropy',\n",
    "    optimizer='adam',\n",
    "    metrics=['accuracy'])"
   ]
  },
  {
   "cell_type": "code",
   "execution_count": null,
   "metadata": {},
   "outputs": [
    {
     "evalue": "Error: Activating Python 3.7.4 64-bit ('miniconda3': conda) to run Jupyter failed with Error: Command failed: . /Users/henrik/miniconda3/bin/activate && conda activate miniconda3 && echo 'e8b39361-0157-4923-80e1-22d70d46dee6' && python /Users/henrik/.vscode/extensions/ms-python.python-2019.10.44104/pythonFiles/printEnvVariables.py\nCould not find conda environment: miniconda3\nYou can list all discoverable environments with `conda info --envs`.\n\n.",
     "output_type": "error"
    }
   ],
   "source": [
    "history = model.fit(X, y, \n",
    "    batch_size=32, \n",
    "    epochs=10, \n",
    "    validation_split=0.05) "
   ]
  },
  {
   "cell_type": "code",
   "execution_count": null,
   "metadata": {},
   "outputs": [
    {
     "evalue": "Error: Activating Python 3.7.4 64-bit ('miniconda3': conda) to run Jupyter failed with Error: Command failed: . /Users/henrik/miniconda3/bin/activate && conda activate miniconda3 && echo 'e8b39361-0157-4923-80e1-22d70d46dee6' && python /Users/henrik/.vscode/extensions/ms-python.python-2019.10.44104/pythonFiles/printEnvVariables.py\nCould not find conda environment: miniconda3\nYou can list all discoverable environments with `conda info --envs`.\n\n.",
     "output_type": "error"
    }
   ],
   "source": [
    "plt.plot(history.history['accuracy'], label='accuracy')\n",
    "plt.plot(history.history['val_accuracy'], label = 'val_accuracy')\n",
    "plt.xlabel('Epoch')\n",
    "plt.ylabel('Accuracy')\n",
    "plt.ylim([0.5, 1])\n",
    "plt.legend(loc='lower right')\n",
    "plt.show()"
   ]
  }
 ],
 "metadata": {
  "kernelspec": {
   "display_name": "Python 3",
   "language": "python",
   "name": "python3"
  },
  "language_info": {
   "codemirror_mode": {
    "name": "ipython",
    "version": 3
   },
   "file_extension": ".py",
   "mimetype": "text/x-python",
   "name": "python",
   "nbconvert_exporter": "python",
   "pygments_lexer": "ipython3",
   "version": "3.7.4"
  }
 },
 "nbformat": 4,
 "nbformat_minor": 2
}